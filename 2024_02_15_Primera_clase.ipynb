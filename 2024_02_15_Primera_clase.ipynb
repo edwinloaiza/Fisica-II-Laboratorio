{
  "cells": [
    {
      "cell_type": "markdown",
      "metadata": {
        "id": "TYsUf4KUfgGm"
      },
      "source": [
        "# Mi primer cuaderno de Jupyter\n",
        "## Edición de documentos en Jupyter Notebook\n",
        "Jupyter notebook usa **Markdown**,  *Markdown* es un lenguaje de marcado ligero que te permite escribir texto plano con formato.\n",
        "\n",
        "Lista no numerada:\n",
        "- Item uno\n",
        "- Item dos\n",
        "  - Item 2.1\n",
        "  - Item 2.2\n",
        "\n",
        "Lista numerada:\n",
        "1. Item uno\n",
        "1. Item dos\n",
        "1. Item tres\n",
        "  1. Sub titem 3.1\n",
        "\n",
        "Incluimos ecuaciones entre lineas usando LaTeX: $x^2+b\\,x+c=0$, ecuaiones en\n",
        "lineas separadas:\n",
        "$$\n",
        "\\lim_{a\\to 0}\\lim_{b\\to \\infty}\\int_a^b\\frac{1}{x}\\,dx\n",
        "$$\n",
        "Sistemas de ecuaciones:\n",
        "\\begin{align}\n",
        "2x+3y&=1\\\\\n",
        "3x-y&=4\\\\\n",
        "\\end{align}\n",
        "\n",
        "Esposible editar código LaTeX online:\n",
        "$$\n",
        "\\sum_{i=1}^{n}\\frac{1}{i(i+1)}\n",
        "$$\n",
        "\n",
        "\n",
        "### Identidad de Ramanujan\n",
        "$$ \\frac{1}{\\Bigl(\\sqrt{\\phi \\sqrt{5}}-\\phi\\Bigr) e^{\\frac25 \\pi}} = 1+\\frac{e^{-2\\pi}} {1+\\frac{e^{-4\\pi}} {1+\\frac{e^{-6\\pi}} {1+\\frac{e^{-8\\pi}} {1+\\ldots} } } }\n",
        "$$\n",
        "\n",
        "## Ecuaciones de Maxwell forma integral\n",
        "### Ley de Gauss del campo eléctrico $\\vec{E}$:\n",
        "\\begin{equation}\n",
        "\\Phi = \\oint_s \\vec E \\cdot d\\vec S =\n",
        "\\frac{q_{enc}}{\\varepsilon_0} \\quad \\text{(Ley de Gauss)}\n",
        "\\end{equation}\n",
        "### Ley de Gauss del campo magnético $\\vec{E}$:\n",
        "\\begin{equation}\n",
        "\\oint_S \\vec B \\cdot d\\vec S = 0\n",
        "\\quad \\text{(Ley de Gauss para el campo magnético)}\n",
        "\\end{equation}\n",
        "\n",
        "### Ley de Faraday\n",
        "\n",
        "\\begin{equation}\n",
        "\\oint_C \\vec{E} \\cdot d\\vec{l} =\n",
        "- \\frac{d}{dt}\\int_S \\vec B \\cdot d\\vec S\n",
        "\\quad \\text{(Ley de Faraday)}\n",
        "\\end{equation}\n",
        "\n",
        "\n",
        "### Ley de Ampere\n",
        "\\begin{equation}\n",
        "\\oint_C \\vec{B} \\cdot d\\vec{l} = \\mu_0 \\int_S \\vec{j} \\cdot d\\vec{S} +\n",
        " \\mu_0 \\epsilon_0 \\frac{d}{dt} \\int_S \\vec{E} \\cdot d\\vec{S}\n",
        "\\quad \\text{(Ley de Ampére)}\n",
        "\\end{equation}\n",
        "\n",
        "### Formulación covariante del campo electromagnético:\n",
        "\n",
        "\\begin{equation}\n",
        "\\mathbf{F} = F_{\\mu \\nu} =\n",
        "\\begin{pmatrix} 0 & E_x/c & E_y/c & E_z/c \\\\\n",
        "-E_x/c & 0 & -B_z & B_y \\\\\n",
        "-E_y/c & B_z & 0 & -B_x \\\\\n",
        "-E_z/c & -B_y & B_x & 0\n",
        "\\end{pmatrix}\n",
        "\\end{equation}\n",
        "\n",
        "\\begin{equation}\n",
        "\\ f_{\\alpha} = \\sum_{\\beta} e \\ F_{\\alpha \\beta} \\ u^{\\beta} \\qquad\n",
        "\\qquad \\partial_{\\mu} F^{\\mu \\nu} =\n",
        "\\mu_0 J^{\\nu} \\partial_\\mu \\cdot F^{\\mu \\nu} = 0\n",
        "\\end{equation}\n",
        "\n",
        "### Ecuaciones de Maxwell forma diferencial\n",
        "#### Ley de Gauss\n",
        "$$\n",
        "\\vec{\\nabla}\\cdot \\vec{E}= \\dfrac{\\rho}\n",
        "{\\epsilon_0}\n",
        "$$\n",
        "#### Ley de Gauss para el campo magnético\n",
        "$$\n",
        "\\vec{\\nabla}\\cdot \\vec{B}= 0\n",
        "$$\n",
        "#### Ley de Faraday\n",
        "$$\n",
        "\\vec{\\nabla}\\times\\vec{E}=-\\dfrac{\\partial\n",
        "\\vec{B}}{\\partial t}\n",
        "$$\n",
        "\n",
        "#### Ley de Ampere\n",
        "\n",
        "$$\n",
        "c^2\\vec{\\nabla}\\times\\vec{B} =\\dfrac\n",
        "{\\vec{J}}{\\epsilon_0}+\\dfrac {\\partial\n",
        "\\vec{E}}{\\partial t}\n",
        "$$\n",
        "\n",
        "$$\n",
        "\\vec{\\nabla}\\times \\vec{B}=\\mu_0\\vec{J}+\\mu_0\n",
        "\\epsilon_0 \\dfrac{\\partial \\vec{E}}\n",
        "{\\partial t}\n",
        "$$"
      ]
    },
    {
      "cell_type": "markdown",
      "metadata": {
        "id": "VcOdgbgEilrQ"
      },
      "source": [
        "# Trazado de puntos scatter\n",
        "En esta sección presentaremos graficas de puntos generadas comn scatter."
      ]
    },
    {
      "cell_type": "markdown",
      "metadata": {
        "id": "f61anflU8B1D"
      },
      "source": [
        "## Cargar librerías"
      ]
    },
    {
      "cell_type": "code",
      "execution_count": null,
      "metadata": {
        "id": "l6pfYmI78Ib8"
      },
      "outputs": [],
      "source": [
        "# Importar librerías\n",
        "import matplotlib.pyplot as plt\n",
        "import  numpy as np"
      ]
    },
    {
      "cell_type": "markdown",
      "metadata": {
        "id": "LfaJVxpf8Nvy"
      },
      "source": [
        "Trazar la gráfica"
      ]
    },
    {
      "cell_type": "code",
      "execution_count": null,
      "metadata": {
        "id": "ECSm0Gq2ftt6"
      },
      "outputs": [],
      "source": [
        "#@ trazado de puntos\n",
        "\n",
        "# Importar librerías\n",
        "import matplotlib.pyplot as plt\n",
        "import  numpy as np\n",
        "\n",
        "# Definir puntos\n",
        "O=np.array([0,0])\n",
        "P=np.array([3,4])\n",
        "Q=np.array([3.5,3.5])\n",
        "R=np.array([4,3])\n",
        "\n",
        "# Crear la figura\n",
        "fig,ax=plt.subplots()\n",
        "\n",
        "# Configurar ejes\n",
        "ax.set_xlim(0,5)\n",
        "ax.set_ylim(0,5)\n",
        "ax.set_aspect('equal')\n",
        "\n",
        "# Configurar grilla\n",
        "ax.grid(color='gray',linestyle='--',linewidth=0.5)\n",
        "ax.axhline(0,color='black',linewidth=1.5)\n",
        "ax.axvline(0,color='black',linewidth=1.5)\n",
        "\n",
        "# Título\n",
        "ax.set_title('Trazado de puntos con scatter')\n",
        "\n",
        "#Scatter\n",
        "#ax.scatter(P[0],P[1])\n",
        "#ax.scatter(Q[0],Q[1])\n",
        "#ax.scatter(R[0],R[1])\n",
        "#x=np.array([3,3.5,4])\n",
        "#y=np.array([4,3.5,3])\n",
        "\n",
        "#ax.scatter(x,y,color='black')\n",
        "\n",
        "\n",
        "# Configurar ejes\n",
        "ax.set_xlim(0,2*np.pi)\n",
        "ax.set_ylim(-1.1,1.1)\n",
        "ax.set_aspect('equal')\n",
        "t=np.linspace(0,2*np.pi,50)\n",
        "s=np.sin(t)\n",
        "ax.scatter(t,s)\n",
        "\n",
        "\n",
        "#mostrar la gráfica\n",
        "plt.show()\n",
        "\n"
      ]
    },
    {
      "cell_type": "markdown",
      "metadata": {
        "id": "P5EbdUiZmlc-"
      },
      "source": [
        "## Trazado de gráfica con plot"
      ]
    },
    {
      "cell_type": "code",
      "execution_count": null,
      "metadata": {
        "id": "6ZfsG8BOi-He"
      },
      "outputs": [],
      "source": [
        "#@ trazado de lineas\n",
        "\n",
        "# Importar librerías\n",
        "import matplotlib.pyplot as plt\n",
        "import  numpy as np\n",
        "\n",
        "# Definir puntos\n",
        "O=np.array([0,0])\n",
        "P=np.array([3,4])\n",
        "Q=np.array([3.5,3.5])\n",
        "R=np.array([4,3])\n",
        "\n",
        "# Crear la figura\n",
        "fig,ax=plt.subplots()\n",
        "\n",
        "# Configurar ejes\n",
        "ax.set_xlim(0,5)\n",
        "ax.set_ylim(0,5)\n",
        "ax.set_aspect('equal')\n",
        "\n",
        "# Configurar grilla\n",
        "ax.grid(color='gray',linestyle='--',linewidth=0.5)\n",
        "ax.axhline(0,color='black',linewidth=1.5)\n",
        "ax.axvline(0,color='black',linewidth=1.5)\n",
        "\n",
        "# Título\n",
        "ax.set_title('Trazado de puntos con scatter')\n",
        "\n",
        "#Plot\n",
        "#ax.plot([P[0], Q[0], R[0]], [P[1], Q[1], R[1]])\n",
        "\n",
        "#ax.scatter(P[0],P[1])\n",
        "#ax.scatter(Q[0],Q[1])\n",
        "#ax.scatter(R[0],R[1])\n",
        "\n",
        "#x=np.array([3,3.5,4])\n",
        "#y=np.array([4,3.5,3])\n",
        "\n",
        "#ax.scatter(x,y,color='black')\n",
        "\n",
        "\n",
        "# Configurar ejes\n",
        "ax.set_xlim(0,2*np.pi)\n",
        "ax.set_ylim(-1.1,1.1)\n",
        "ax.set_aspect('equal')\n",
        "t=np.linspace(0,2*np.pi,50)\n",
        "s=np.sin(t)\n",
        "ax.plot(t,s)\n",
        "\n",
        "\n",
        "#mostrar la gráfica\n",
        "plt.show()\n",
        "\n"
      ]
    },
    {
      "cell_type": "markdown",
      "metadata": {
        "id": "xptzbx7Yni1J"
      },
      "source": [
        "## Trazado de vectores con Quiver"
      ]
    },
    {
      "cell_type": "code",
      "execution_count": null,
      "metadata": {
        "id": "MYTW0a5Hm2Oa"
      },
      "outputs": [],
      "source": [
        "#@ trazado de puntos\n",
        "\n",
        "# Importar librerías\n",
        "import matplotlib.pyplot as plt\n",
        "import  numpy as np\n",
        "\n",
        "# Definir puntos\n",
        "O=np.array([0,0])\n",
        "P=np.array([3,4])\n",
        "Q=np.array([3.5,3.5])\n",
        "R=np.array([4,3])\n",
        "\n",
        "# Crear la figura\n",
        "fig,ax=plt.subplots()\n",
        "\n",
        "#Configurar los ejes\n",
        "\n",
        "ax.set_xlim(0,8)\n",
        "ax.set_ylim(0,8)\n",
        "ax.set_aspect('equal')\n",
        "\n",
        "# Configurar la grilla\n",
        "\n",
        "ax.grid(color='gray', linestyle='--', linewidth=0.5)\n",
        "ax.axhline(0,color='black', linewidth=1)\n",
        "ax.axvline(0,color='black', linewidth=1)\n",
        "\n",
        "# título de la grñafica\n",
        "ax.set_title('Trazado de vectores: quiver')\n",
        "\n",
        "#Trazado de vectores con cola en el origen\n",
        "#ax.quiver(O[0],O[1],P[0],P[1], angles='xy', scale_units='xy',scale=1, color='blue')\n",
        "#ax.quiver(O[0],O[1],Q[0],Q[1], angles='xy', scale_units='xy',scale=1, color='green')\n",
        "#ax.quiver(O[0],O[1],R[0],R[1], angles='xy', scale_units='xy',scale=1, color='red')\n",
        "\n",
        "S=P+R\n",
        "ax.quiver(O[0],O[1],P[0],P[1], angles='xy', scale_units='xy',scale=1, color='blue')\n",
        "ax.quiver(P[0],P[1],R[0],R[1], angles='xy', scale_units='xy',scale=1, color='green')\n",
        "ax.quiver(O[0],O[1],S[0],S[1], angles='xy', scale_units='xy',scale=1, color='red')\n",
        "\n",
        "# Mostrar gráfico\n",
        "plt.show()"
      ]
    },
    {
      "cell_type": "markdown",
      "metadata": {
        "id": "rd-8XVWc5lWY"
      },
      "source": [
        "# Trazado de múltiples gráficas\n",
        "\n",
        "Crear una figura (contenedor para múltiples gráficos) y una cuadrícula de tres subgráficos (áreas individuales de visualización) para representar datos.\n",
        "\n",
        "- `plt.subplots` es una función del módulo pyplot de matplotlib que sirve para crear figuras y subgráficos.\n",
        "- (1, 3) especifica la configuración de la cuadrícula: una fila (1) con tres columnas (3), lo que resulta en tres subgráficos dispuestos horizontalmente.\n",
        "- figsize=(15, 5) establece el tamaño general de la figura como un par de valores: ancho (15 pulgadas) y altura (5 pulgadas). Puedes ajustar estas medidas según tus necesidades.\n",
        "- Cada eje configura conn `axs[0]`, `ax[1]` y `ax[2]`"
      ]
    },
    {
      "cell_type": "code",
      "execution_count": null,
      "metadata": {
        "id": "qYTuohTl5gVq"
      },
      "outputs": [],
      "source": [
        "#@ Múltiples plots\n",
        "import matplotlib.pyplot as plt\n",
        "import numpy as np\n",
        "\n",
        "# Crear una figura con tres subplots en 1 fila y 3 columnas\n",
        "fig, axs = plt.subplots(1, 3, figsize=(15, 5))\n",
        "\n",
        "# Subplot 1: Gráfica original\n",
        "axs[0].set_xlim(0, 5)\n",
        "axs[0].set_ylim(0, 5)\n",
        "axs[0].set_aspect('equal')\n",
        "\n",
        "O = np.array([0, 0])\n",
        "P = np.array([3, 4])\n",
        "\n",
        "axs[0].scatter(P[0], P[1])\n",
        "axs[0].axhline(0, color='black', linewidth=0.5)\n",
        "axs[0].axvline(0, color='black', linewidth=0.5)\n",
        "axs[0].grid(color='gray', linestyle='--', linewidth=0.5)\n",
        "axs[0].set_title('Gráfica Original')\n",
        "\n",
        "# Subplot 2: Gráfica del vector OP con quiver\n",
        "axs[1].set_xlim(0, 5)\n",
        "axs[1].set_ylim(0, 5)\n",
        "axs[1].set_aspect('equal')\n",
        "\n",
        "axs[1].quiver(O[0], O[1], P[0], P[1], angles='xy', scale_units='xy', scale=1, color='red')\n",
        "axs[1].axhline(0, color='black', linewidth=0.5)\n",
        "axs[1].axvline(0, color='black', linewidth=0.5)\n",
        "axs[1].grid(color='gray', linestyle='--', linewidth=0.5)\n",
        "axs[1].set_title('Vector OP con quiver')\n",
        "\n",
        "# Subplot 3: Gráfica del vector OP con plot\n",
        "axs[2].set_xlim(0, 5)\n",
        "axs[2].set_ylim(0, 5)\n",
        "axs[2].set_aspect('equal')\n",
        "\n",
        "axs[2].plot([O[0], P[0]], [O[1], P[1]], color='blue')\n",
        "\n",
        "axs[2].axhline(0, color='black', linewidth=0.5)\n",
        "axs[2].axvline(0, color='black', linewidth=0.5)\n",
        "axs[2].grid(color='gray', linestyle='--', linewidth=0.5)\n",
        "axs[2].set_title('Vector OP con plot')\n",
        "\n",
        "# Ajustar la disposición de los subplots\n",
        "plt.tight_layout()\n",
        "\n",
        "# Mostrar el gráfico\n",
        "plt.show()"
      ]
    },
    {
      "cell_type": "markdown",
      "metadata": {
        "id": "Gs7nBP9tpgtS"
      },
      "source": [
        "## Trazar un campo vectorial\n",
        "\n",
        "En la biblioteca de visualización de datos Matplotlib, la función quiver se utiliza para representar gráficamente campos vectoriales en 2D.\n",
        "\n",
        "Un campo vectorial describe la magnitud y dirección de una cantidad (como la fuerza o la velocidad) en cada punto del espacio.\n",
        "\n",
        "La función quiver crea una serie de flechas, donde la longitud de cada flecha representa la magnitud de la cantidad vectorial en ese punto y la dirección de la flecha indica la dirección.\n",
        "\n",
        "Trazar la gráfica del campo. vectorial:\n",
        "$$\n",
        "v(x,y)=(x+y)\\mathbf{i}+(x-y)\\mathbf{j}\n",
        "$$"
      ]
    },
    {
      "cell_type": "code",
      "execution_count": 8,
      "metadata": {
        "id": "R2ioKmKKnxkr"
      },
      "outputs": [
        {
          "data": {
            "image/png": "[encoded data removed]",
            "text/plain": [
              "<Figure size 640x480 with 1 Axes>"
            ]
          },
          "metadata": {},
          "output_type": "display_data"
        }
      ],
      "source": [
        "import matplotlib.pyplot as plt\n",
        "import numpy as np\n",
        "\n",
        "# Descomenta esta línea para usar un estilo específico de matplotlib sin líneas de cuadrícula\n",
        "# plt.style.use('_mpl-gallery-nogrid')\n",
        "\n",
        "# Crea matrices de datos\n",
        "x = np.linspace(-4, 4, 10)  # Genera números espaciados uniformemente de -4 a 4 con 10 puntos\n",
        "y = np.linspace(-4, 4, 10)  # Lo mismo para y\n",
        "X, Y = np.meshgrid(x, y)  # Crea una cuadrícula de puntos 2D a partir de matrices x e y\n",
        "\n",
        "# Calcula vectores basados en las posiciones de la cuadrícula\n",
        "U = X + Y  # Componente X del vector en cada punto (suma de x e y)\n",
        "V = Y - X  # Componente Y del vector (diferencia de y y x)\n",
        "\n",
        "# Crea la figura y configura los ejes\n",
        "fig, ax = plt.subplots()\n",
        "\n",
        "# Dibuja el diagrama de quiver\n",
        "# - X, Y: definen los puntos de inicio de las flechas\n",
        "# - U, V: definen los componentes x e y de las direcciones de las flechas\n",
        "# - color=\"C0\": establece el color de las flechas al primer color del ciclo de color predeterminado\n",
        "# - angles='xy': especifica que la dirección debe basarse en los valores U y V\n",
        "# - scale_units='xy': escala la longitud de la flecha según las unidades de datos\n",
        "# - scale=2: escala la longitud de la flecha por un factor de 2\n",
        "# - width=.015: establece el ancho de los ejes de las flechas\n",
        "ax.quiver(X, Y, U, V, color=\"C0\", angles='xy', scale_units='xy', scale=2, width=.01)\n",
        "ax.set_aspect('equal')\n",
        "plt.show()"
      ]
    },
    {
      "cell_type": "code",
      "execution_count": null,
      "metadata": {
        "id": "aSgvnxjYpvVA"
      },
      "outputs": [],
      "source": []
    }
  ],
  "metadata": {
    "colab": {
      "private_outputs": true,
      "provenance": []
    },
    "kernelspec": {
      "display_name": "Python 3",
      "name": "python3"
    },
    "language_info": {
      "codemirror_mode": {
        "name": "ipython",
        "version": 3
      },
      "file_extension": ".py",
      "mimetype": "text/x-python",
      "name": "python",
      "nbconvert_exporter": "python",
      "pygments_lexer": "ipython3",
      "version": "3.12.1"
    }
  },
  "nbformat": 4,
  "nbformat_minor": 0
}
